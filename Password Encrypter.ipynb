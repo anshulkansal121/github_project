{
 "cells": [
  {
   "cell_type": "code",
   "execution_count": 1,
   "metadata": {},
   "outputs": [
    {
     "name": "stdout",
     "output_type": "stream",
     "text": [
      "Enter your Password Anshul\n",
      "Enter step size3\n",
      " Dqvkxo\n"
     ]
    }
   ],
   "source": [
    "Password=input(\"Enter your Password \")\n",
    "n=int(input(\"Enter step size\"))\n",
    "new_password=\" \"\n",
    "for i in Password:\n",
    "    if i.islower()==True:\n",
    "        if(ord(i)>ord('z')-n):\n",
    "            i=(n-(ord('z')-ord(i))-1)+ord('a')\n",
    "            new_password+=chr(i)\n",
    "        else:\n",
    "            new_password+=chr(ord(i)+n)           \n",
    "    elif i.isupper()==True:\n",
    "        if(ord(i)>ord('Z')-n):\n",
    "            i=(n-(ord('Z')-ord(i))-1)+ord('A')\n",
    "            new_password+=chr(i)\n",
    "        else:\n",
    "            new_password+=chr(ord(i)+n)\n",
    "        \n",
    "    else:\n",
    "        print(\"Wrong Input\")\n",
    "        \n",
    "print(new_password)"
   ]
  },
  {
   "cell_type": "code",
   "execution_count": null,
   "metadata": {},
   "outputs": [],
   "source": []
  }
 ],
 "metadata": {
  "kernelspec": {
   "display_name": "Python 3",
   "language": "python",
   "name": "python3"
  },
  "language_info": {
   "codemirror_mode": {
    "name": "ipython",
    "version": 3
   },
   "file_extension": ".py",
   "mimetype": "text/x-python",
   "name": "python",
   "nbconvert_exporter": "python",
   "pygments_lexer": "ipython3",
   "version": "3.8.2"
  }
 },
 "nbformat": 4,
 "nbformat_minor": 4
}
